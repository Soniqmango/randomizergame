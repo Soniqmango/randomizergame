{
 "cells": [
  {
   "cell_type": "code",
   "execution_count": 18,
   "metadata": {},
   "outputs": [
    {
     "name": "stdout",
     "output_type": "stream",
     "text": [
      "The number 0.5000561325562904 took 1 attempts to achieve.\n",
      "The number 0.4998708595728551 took 1 attempts to achieve.\n",
      "The number 0.49991081748014315 took 1 attempts to achieve.\n",
      "The number 0.5000721808459713 took 1 attempts to achieve.\n",
      "The number 0.4999183935038478 took 1 attempts to achieve.\n",
      "\n",
      "This took 5 attempts.\n"
     ]
    }
   ],
   "source": [
    "import numpy as np\n",
    "\n",
    "totaldone = 0\n",
    "attempts = 0\n",
    "successfulnum = []\n",
    "successfulattempts = []\n",
    "totalattempts = 0\n",
    "\n",
    "difference = float(input(\"How big of a range do you want?\"))\n",
    "realdiff = difference/2\n",
    "\n",
    "while totaldone < 5:  # loop will exit after 5 successful attempts\n",
    "    randomarr = np.random.rand(10000000)\n",
    "    avg = np.mean(randomarr)\n",
    "    attempts += 1\n",
    "    if 0.5-realdiff < avg < 0.5+realdiff:\n",
    "        successfulnum.append(avg)\n",
    "        successfulattempts.append(attempts)\n",
    "        totaldone += 1  # Increment total done once a successful attempt is found\n",
    "        attempts = 0  # Reset attempts after a successful attempt\n",
    "\n",
    "for i in range (1,6):\n",
    "    x = successfulnum.pop(0)\n",
    "    y = successfulattempts.pop(0)\n",
    "    totalattempts += y\n",
    "    print(f\"The number {x} took {y} attempts to achieve.\")\n",
    "print(f\"\\nThis took {totalattempts} attempts.\")\n"
   ]
  },
  {
   "cell_type": "code",
   "execution_count": 16,
   "metadata": {},
   "outputs": [
    {
     "name": "stdout",
     "output_type": "stream",
     "text": [
      "The closest number was 0.49999997682007, it took 12026 attempts.\n",
      "The difference was 2.3179929975469804e-08!\n"
     ]
    }
   ],
   "source": [
    "import numpy as np\n",
    "\n",
    "closestnumber = 0\n",
    "attempts = 0 \n",
    "\n",
    "try:\n",
    "    while True:\n",
    "        randomarr = np.random.rand(10000000)\n",
    "        avg = np.mean(randomarr)\n",
    "        attempts += 1\n",
    "        if abs(avg-0.5)<abs(closestnumber-0.5):\n",
    "            closestnumber=avg\n",
    "except KeyboardInterrupt:\n",
    "    print(f\"The closest number was {closestnumber}, it took {attempts} attempts.\")\n",
    "    print(f\"The difference was {abs(closestnumber-0.5)}!\")"
   ]
  },
  {
   "cell_type": "code",
   "execution_count": 5,
   "metadata": {},
   "outputs": [
    {
     "name": "stdout",
     "output_type": "stream",
     "text": [
      "Please write an integer that is 1 or greater.\n"
     ]
    }
   ],
   "source": []
  }
 ],
 "metadata": {
  "kernelspec": {
   "display_name": "Python 3",
   "language": "python",
   "name": "python3"
  },
  "language_info": {
   "codemirror_mode": {
    "name": "ipython",
    "version": 3
   },
   "file_extension": ".py",
   "mimetype": "text/x-python",
   "name": "python",
   "nbconvert_exporter": "python",
   "pygments_lexer": "ipython3",
   "version": "3.12.4"
  }
 },
 "nbformat": 4,
 "nbformat_minor": 2
}
